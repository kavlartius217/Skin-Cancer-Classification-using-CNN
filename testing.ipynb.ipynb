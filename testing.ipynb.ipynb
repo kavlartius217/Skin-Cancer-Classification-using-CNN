{
  "nbformat": 4,
  "nbformat_minor": 0,
  "metadata": {
    "colab": {
      "provenance": []
    },
    "kernelspec": {
      "name": "python3",
      "display_name": "Python 3"
    },
    "language_info": {
      "name": "python"
    }
  },
  "cells": [
    {
      "cell_type": "code",
      "execution_count": null,
      "metadata": {
        "id": "VH74APGMrdP8",
        "colab": {
          "base_uri": "https://localhost:8080/"
        },
        "outputId": "3f233257-b256-42d0-c36c-722e9a582b53"
      },
      "outputs": [
        {
          "output_type": "stream",
          "name": "stdout",
          "text": [
            "Mounted at /content/drive\n"
          ]
        }
      ],
      "source": [
        "from google.colab import drive\n",
        "drive.mount('/content/drive')"
      ]
    },
    {
      "cell_type": "code",
      "source": [
        "import tensorflow as tf\n",
        "import numpy as np\n",
        "from PIL import Image\n",
        "\n",
        "# Load the trained model\n",
        "model = tf.keras.models.load_model('/content/skin_cancer_classification_model.h5')\n",
        "\n",
        "# Define the image size and class names\n",
        "img_height, img_width = 180, 180\n",
        "class_names = ['akiec', 'bkl', 'bcc', 'df', 'vasc', 'mel', 'nv', 'sig', 'misc']\n",
        "\n",
        "# Load and preprocess the image\n",
        "image_path = '/content/drive/MyDrive/Train/melanoma/ISIC_0000139.jpg'\n",
        "image = Image.open(image_path)\n",
        "image = image.resize((img_width, img_height))  # Corrected order of width and height\n",
        "image_array = np.array(image) / 255.0  # Normalize pixel values\n",
        "image_array = np.expand_dims(image_array, axis=0)  # Add batch dimension\n",
        "\n",
        "# Make prediction\n",
        "prediction = model.predict(image_array)\n",
        "predicted_class = class_names[np.argmax(prediction)]\n",
        "\n",
        "print(f\"Predicted class: {predicted_class}\")"
      ],
      "metadata": {
        "colab": {
          "base_uri": "https://localhost:8080/"
        },
        "id": "tfJKoTMHiBCA",
        "outputId": "3bfbb58f-17d2-4144-aa12-5238d4f6e9d0"
      },
      "execution_count": null,
      "outputs": [
        {
          "output_type": "stream",
          "name": "stderr",
          "text": [
            "WARNING:tensorflow:5 out of the last 5 calls to <function Model.make_predict_function.<locals>.predict_function at 0x7b662df769e0> triggered tf.function retracing. Tracing is expensive and the excessive number of tracings could be due to (1) creating @tf.function repeatedly in a loop, (2) passing tensors with different shapes, (3) passing Python objects instead of tensors. For (1), please define your @tf.function outside of the loop. For (2), @tf.function has reduce_retracing=True option that can avoid unnecessary retracing. For (3), please refer to https://www.tensorflow.org/guide/function#controlling_retracing and https://www.tensorflow.org/api_docs/python/tf/function for  more details.\n"
          ]
        },
        {
          "output_type": "stream",
          "name": "stdout",
          "text": [
            "1/1 [==============================] - 0s 198ms/step\n",
            "Predicted class: mel\n"
          ]
        }
      ]
    }
  ]
}